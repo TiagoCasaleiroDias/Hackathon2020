{
 "cells": [
  {
   "cell_type": "code",
   "execution_count": 3,
   "metadata": {},
   "outputs": [],
   "source": [
    "import pandas as pd\n",
    "import numpy as np\n",
    "import matplotlib.pyplot as plt\n",
    "import seaborn as sns"
   ]
  },
  {
   "attachments": {},
   "cell_type": "markdown",
   "metadata": {},
   "source": [
    "### Final goals\n",
    "\n",
    "* Business Type/Sector;\n",
    "* Number of employees;\n",
    "* Company Age;\n",
    "* Number of women/number of man;\n",
    "* Number of women/man per position;\n",
    "* Wages in different positions;\n",
    "* Special benefits for parenting;\n",
    "* Number and Gender of hired people after 30;\n",
    "* Gender and Type of contract relation;\n",
    "* Number/Gender of applicants or interns;\n",
    "* Ranking;"
   ]
  },
  {
   "cell_type": "markdown",
   "metadata": {},
   "source": [
    "### Columns Dataset 1\n",
    "\n",
    "* Age\n",
    "* Gender\n",
    "* Position\n",
    "* Type of Position: Is it a managing position or not?\n",
    "* Monthly Wage\n",
    "* Type of Contract: if the contract is temporary or effective?\n",
    "* Date of beggining of contract"
   ]
  },
  {
   "cell_type": "markdown",
   "metadata": {},
   "source": [
    "### Columns Dataset 2 (Not mandatory for companies)\n",
    "\n",
    "* Age\n",
    "* Gender\n",
    "* Position\n",
    "* Hired/Not"
   ]
  }
 ],
 "metadata": {
  "kernelspec": {
   "display_name": "Python 3",
   "language": "python",
   "name": "python3"
  },
  "language_info": {
   "codemirror_mode": {
    "name": "ipython",
    "version": 3
   },
   "file_extension": ".py",
   "mimetype": "text/x-python",
   "name": "python",
   "nbconvert_exporter": "python",
   "pygments_lexer": "ipython3",
   "version": "3.7.4"
  }
 },
 "nbformat": 4,
 "nbformat_minor": 4
}
