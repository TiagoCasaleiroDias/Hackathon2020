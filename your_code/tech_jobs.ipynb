{
 "cells": [
  {
   "cell_type": "code",
   "execution_count": 1,
   "metadata": {},
   "outputs": [],
   "source": [
    "import requests\n",
    "from bs4 import BeautifulSoup\n",
    "import re\n",
    "import pandas as pd\n",
    "import lxml"
   ]
  },
  {
   "cell_type": "code",
   "execution_count": 2,
   "metadata": {},
   "outputs": [
    {
     "data": {
      "text/plain": [
       "['Cloud Architect',\n",
       " 'Cloud Consultant',\n",
       " 'Cloud Product and Project Manager',\n",
       " 'Cloud Services Developer',\n",
       " 'Cloud Software and Network Engineer',\n",
       " 'Cloud System Administrator',\n",
       " 'Cloud System Engineer',\n",
       " 'Computer and Information Research Scientist',\n",
       " 'Computer and Information Systems Manager',\n",
       " 'Computer Network Architect',\n",
       " 'Computer Systems Analyst',\n",
       " 'Computer Systems Manager',\n",
       " 'IT Analyst',\n",
       " 'IT Coordinator',\n",
       " 'Network Administrator',\n",
       " 'Network Architect',\n",
       " 'Network and Computer Systems Administrator',\n",
       " 'Network Engineer',\n",
       " 'Network Systems Administrator',\n",
       " 'Senior Network Architect',\n",
       " 'Senior Network Engineer',\n",
       " 'Senior Network System Administrator',\n",
       " 'Telecommunications Specialist',\n",
       " 'Customer Support Administrator',\n",
       " 'Customer Support Specialist',\n",
       " 'Desktop Support Manager',\n",
       " 'Desktop Support Specialist',\n",
       " 'Help Desk Specialist',\n",
       " 'Help Desk Technician',\n",
       " 'IT Support Manager',\n",
       " 'IT Support Specialist',\n",
       " 'IT Systems Administrator',\n",
       " 'Senior Support Specialist',\n",
       " 'Senior System Administrator',\n",
       " 'Support Specialist',\n",
       " 'Systems Administrator',\n",
       " 'Technical Specialist',\n",
       " 'Technical Support Engineer',\n",
       " 'Technical Support Specialist',\n",
       " 'Data Center Support Specialist',\n",
       " 'Data Quality Manager',\n",
       " 'Database Administrator',\n",
       " 'Senior Database Administrator',\n",
       " 'Application Support Analyst',\n",
       " 'Senior System Analyst',\n",
       " 'Systems Analyst',\n",
       " 'Systems Designer',\n",
       " 'Chief Information Officer (CIO)',\n",
       " 'Chief Technology Officer (CTO)',\n",
       " 'Director of Technology',\n",
       " 'IT Director',\n",
       " 'IT Manager',\n",
       " 'Management Information Systems Director',\n",
       " 'Technical Operations Officer',\n",
       " 'Information Security',\n",
       " 'Security Specialist',\n",
       " 'Senior Security Specialist',\n",
       " 'Application Developer',\n",
       " 'Applications Engineer',\n",
       " 'Associate Developer',\n",
       " 'Computer Programmer',\n",
       " 'Developer',\n",
       " 'Java Developer',\n",
       " 'Junior Software Engineer',\n",
       " '.NET Developer',\n",
       " 'Programmer',\n",
       " 'Programmer Analyst',\n",
       " 'Senior Applications Engineer',\n",
       " 'Senior Programmer',\n",
       " 'Senior Programmer Analyst',\n",
       " 'Senior Software Engineer',\n",
       " 'Senior System Architect',\n",
       " 'Senior System Designer',\n",
       " 'Senior Systems Software Engineer',\n",
       " 'Software Architect',\n",
       " 'Software Developer',\n",
       " 'Software Engineer',\n",
       " 'Software Quality Assurance Analyst',\n",
       " 'System Architect',\n",
       " 'Systems Software Engineer',\n",
       " 'Front End Developer',\n",
       " 'Senior Web Administrator',\n",
       " 'Senior Web Developer',\n",
       " 'Web Administrator',\n",
       " 'Web Developer',\n",
       " 'Webmaster']"
      ]
     },
     "execution_count": 2,
     "metadata": {},
     "output_type": "execute_result"
    }
   ],
   "source": [
    "url = 'https://www.thebalancecareers.com/list-of-information-technology-it-job-titles-2061498'\n",
    "html = requests.get(url).content\n",
    "soup = BeautifulSoup(html, \"lxml\")\n",
    "table1 = soup.find_all('div', attrs = {'class':'comp mntl-sc-block mntl-sc-block-html'})\n",
    "table2=soup.find_all('li')\n",
    "text1 = [element.text.replace('\\n','').strip() for element in table2]\n",
    "tech_jobs=text1[27:113]\n",
    "tech_jobs"
   ]
  },
  {
   "cell_type": "code",
   "execution_count": null,
   "metadata": {},
   "outputs": [],
   "source": []
  }
 ],
 "metadata": {
  "kernelspec": {
   "display_name": "Python 3",
   "language": "python",
   "name": "python3"
  },
  "language_info": {
   "codemirror_mode": {
    "name": "ipython",
    "version": 3
   },
   "file_extension": ".py",
   "mimetype": "text/x-python",
   "name": "python",
   "nbconvert_exporter": "python",
   "pygments_lexer": "ipython3",
   "version": "3.7.4"
  }
 },
 "nbformat": 4,
 "nbformat_minor": 4
}
